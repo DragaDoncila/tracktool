{
 "cells": [
  {
   "cell_type": "code",
   "execution_count": 2,
   "metadata": {},
   "outputs": [],
   "source": [
    "import os\n",
    "from datetime import datetime\n",
    "from tracktool import load_graph\n",
    "import networkx as nx\n",
    "import igraph\n",
    "import numpy as np\n",
    "import pandas as pd"
   ]
  },
  {
   "cell_type": "code",
   "execution_count": 3,
   "metadata": {},
   "outputs": [],
   "source": [
    "DATA_ROOT = '/home/draga/PhD/data/cell_tracking_challenge/ST_Segmentations/'\n",
    "DS_NAME = 'Fluo-N2DL-HeLa/'\n",
    "SEQ = '01_ST'\n",
    "GT_PATH = os.path.join(DATA_ROOT, DS_NAME, '01_GT/TRA/')\n",
    "SEG_PATH = os.path.join(DATA_ROOT, DS_NAME, SEQ, 'SEG/')"
   ]
  },
  {
   "cell_type": "code",
   "execution_count": 5,
   "metadata": {},
   "outputs": [
    {
     "name": "stderr",
     "output_type": "stream",
     "text": [
      "Building kD trees: 100%|██████████| 92/92 [00:01<00:00, 90.26it/s] \n",
      "Making appearance/exit edges: 100%|██████████| 8604/8604 [00:00<00:00, 127672.09it/s]\n",
      "Making migration & division edges: 100%|██████████| 91/91 [00:05<00:00, 15.74it/s]\n"
     ]
    },
    {
     "name": "stdout",
     "output_type": "stream",
     "text": [
      "Set parameter Username\n",
      "Academic license - for non-commercial use only - expires 2024-06-18\n",
      "Gurobi Optimizer version 10.0.1 build v10.0.1rc0 (linux64)\n",
      "\n",
      "CPU model: Intel(R) Core(TM) i7-10510U CPU @ 1.80GHz, instruction set [SSE2|AVX|AVX2]\n",
      "Thread count: 4 physical cores, 8 logical processors, using up to 8 threads\n",
      "\n",
      "Optimize a model with 25815 rows, 110358 columns and 424220 nonzeros\n",
      "Model fingerprint: 0x69dd8f84\n",
      "Coefficient statistics:\n",
      "  Matrix range     [1e+00, 1e+00]\n",
      "  Objective range  [2e-02, 4e+02]\n",
      "  Bounds range     [1e+00, 1e+00]\n",
      "  RHS range        [1e+00, 1e+00]\n",
      "Presolve removed 139 rows and 2 columns\n",
      "Presolve time: 0.24s\n",
      "Presolved: 25676 rows, 110356 columns, 422722 nonzeros\n",
      "\n",
      "Concurrent LP optimizer: dual simplex and barrier\n",
      "Showing barrier log only...\n",
      "\n",
      "Ordering time: 0.03s\n",
      "\n",
      "Barrier statistics:\n",
      " AA' NZ     : 3.039e+05\n",
      " Factor NZ  : 1.262e+06 (roughly 70 MB of memory)\n",
      " Factor Ops : 1.678e+08 (less than 1 second per iteration)\n",
      " Threads    : 3\n",
      "\n",
      "Barrier performed 0 iterations in 0.42 seconds (0.27 work units)\n",
      "Barrier solve interrupted - model solved by another algorithm\n",
      "\n",
      "\n",
      "Solved with dual simplex\n",
      "Iteration    Objective       Primal Inf.    Dual Inf.      Time\n",
      "    9625    3.1764211e+04   0.000000e+00   0.000000e+00      0s\n",
      "\n",
      "Solved in 9625 iterations and 0.46 seconds (0.33 work units)\n",
      "Optimal objective  3.176421093e+04\n"
     ]
    }
   ],
   "source": [
    "seg_ims, flow_graph = load_graph(SEG_PATH)\n",
    "flow_graph.solve()"
   ]
  },
  {
   "cell_type": "code",
   "execution_count": null,
   "metadata": {},
   "outputs": [],
   "source": [
    "# load into napari"
   ]
  }
 ],
 "metadata": {
  "kernelspec": {
   "display_name": "tracktool",
   "language": "python",
   "name": "python3"
  },
  "language_info": {
   "codemirror_mode": {
    "name": "ipython",
    "version": 3
   },
   "file_extension": ".py",
   "mimetype": "text/x-python",
   "name": "python",
   "nbconvert_exporter": "python",
   "pygments_lexer": "ipython3",
   "version": "3.9.16"
  },
  "orig_nbformat": 4
 },
 "nbformat": 4,
 "nbformat_minor": 2
}
