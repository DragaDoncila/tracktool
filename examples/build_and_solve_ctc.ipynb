{
 "cells": [
  {
   "cell_type": "code",
   "execution_count": 4,
   "metadata": {},
   "outputs": [],
   "source": [
    "import os\n",
    "from tracktour import Tracker, get_im_centers"
   ]
  },
  {
   "cell_type": "code",
   "execution_count": 7,
   "metadata": {},
   "outputs": [],
   "source": [
    "DATA_ROOT = '/home/ddon0001/PhD/data/cell_tracking_challenge/ST/'\n",
    "DS_NAME = 'Fluo-N2DL-HeLa/'\n",
    "SEQ = '02_ST'\n",
    "GT_PATH = os.path.join(DATA_ROOT, DS_NAME, '02_GT/TRA/')\n",
    "SEG_PATH = os.path.join(DATA_ROOT, DS_NAME, SEQ, 'SEG/')"
   ]
  },
  {
   "cell_type": "code",
   "execution_count": 8,
   "metadata": {},
   "outputs": [
    {
     "name": "stderr",
     "output_type": "stream",
     "text": [
      "Loading TIFFs: 100%|██████████| 92/92 [00:00<00:00, 283.22it/s]\n",
      "Extracting Centroids: 100%|██████████| 92/92 [00:03<00:00, 30.56it/s]\n"
     ]
    },
    {
     "name": "stdout",
     "output_type": "stream",
     "text": [
      "Loaded 92 frames of shape (700, 1100).\n",
      "Extracted 25378 detections:\n",
      "   t           y           x  label\n",
      "0  0  105.033501   17.544389      1\n",
      "1  0  106.990672  117.902985     20\n",
      "2  0   73.033403  143.325678     24\n",
      "3  0  108.000000  171.669355     28\n",
      "4  0  141.251956  138.192488     32\n"
     ]
    }
   ],
   "source": [
    "seg_labels, detections, min_t, max_t, corners = get_im_centers(SEG_PATH)\n",
    "print(f\"Loaded {seg_labels.shape[0]} frames of shape {seg_labels.shape[1:]}.\")\n",
    "print(f\"Extracted {len(detections)} detections:\")\n",
    "print(detections.head())"
   ]
  },
  {
   "cell_type": "code",
   "execution_count": 9,
   "metadata": {},
   "outputs": [
    {
     "name": "stderr",
     "output_type": "stream",
     "text": [
      "Computing candidate edges: 100%|██████████| 91/91 [00:00<00:00, 1363.63it/s]\n"
     ]
    },
    {
     "name": "stdout",
     "output_type": "stream",
     "text": [
      "Set parameter Username\n",
      "Academic license - for non-commercial use only - expires 2024-10-24\n",
      "Gurobi Optimizer version 10.0.0 build v10.0.0rc2 (linux64)\n",
      "\n",
      "CPU model: 11th Gen Intel(R) Core(TM) i7-11850H @ 2.50GHz, instruction set [SSE2|AVX|AVX2|AVX512]\n",
      "Thread count: 8 physical cores, 16 logical processors, using up to 16 threads\n",
      "\n",
      "Optimize a model with 75774 rows, 325923 columns and 1248939 nonzeros\n",
      "Model fingerprint: 0xf07cfc27\n",
      "Coefficient statistics:\n",
      "  Matrix range     [1e+00, 1e+00]\n",
      "  Objective range  [3e-03, 3e+02]\n",
      "  Bounds range     [1e+00, 2e+00]\n",
      "  RHS range        [1e+00, 1e+00]\n",
      "Presolve removed 3 rows and 2 columns\n",
      "Presolve time: 0.46s\n",
      "Presolved: 75771 rows, 325921 columns, 1248909 nonzeros\n",
      "\n",
      "Concurrent LP optimizer: primal simplex, dual simplex, and barrier\n",
      "Showing barrier log only...\n",
      "\n",
      "Ordering time: 0.37s\n",
      "\n",
      "Barrier performed 0 iterations in 0.94 seconds (0.91 work units)\n",
      "Barrier solve interrupted - model solved by another algorithm\n",
      "\n",
      "\n",
      "Solved with dual simplex\n",
      "Iteration    Objective       Primal Inf.    Dual Inf.      Time\n",
      "   28337    8.4615302e+04   0.000000e+00   0.000000e+00      1s\n",
      "\n",
      "Solved in 28337 iterations and 1.01 seconds (1.12 work units)\n",
      "Optimal objective  8.461530227e+04\n",
      "Building took 14.306994915008545 seconds\n",
      "   t           y           x  label  enter_exit_cost   div_cost\n",
      "0  0  105.033501   17.544389      1        17.544389  54.374273\n",
      "1  0  106.990672  117.902985     20       106.990672  47.543552\n",
      "2  0   73.033403  143.325678     24        73.033403  49.021949\n",
      "3  0  108.000000  171.669355     28       108.000000  50.412891\n",
      "4  0  141.251956  138.192488     32       138.192488  68.057136\n",
      "    index  u    v   distance  capacity       cost  flow\n",
      "0       0  0  124  21.894248       2.0  21.894248   1.0\n",
      "10     10  1  126   4.574182       2.0   4.574182   1.0\n",
      "20     20  2  127   6.052579       2.0   6.052579   1.0\n",
      "30     30  3  128   6.687392       2.0   6.687392   1.0\n",
      "40     40  4  129  15.395290       2.0  15.395290   1.0\n"
     ]
    }
   ],
   "source": [
    "tracker = Tracker(\n",
    "    im_shape = corners[1],\n",
    "    k_neighbours=10\n",
    ")\n",
    "tracked = tracker.solve(\n",
    "    detections,\n",
    "    frame_key=\"t\",\n",
    "    location_keys=(\"y\", \"x\"),\n",
    "    value_key=\"label\"\n",
    ")\n",
    "print(tracked.tracked_detections.head())\n",
    "print(tracked.tracked_edges.head())"
   ]
  },
  {
   "cell_type": "code",
   "execution_count": 10,
   "metadata": {},
   "outputs": [],
   "source": [
    "# convert solution to networkx graph\n",
    "import networkx as nx\n",
    "\n",
    "tracked_edges = tracked.tracked_edges\n",
    "tracked_detections = tracked.tracked_detections\n",
    "\n",
    "sol_graph = nx.from_pandas_edgelist(\n",
    "    tracked_edges, \n",
    "    \"u\", \n",
    "    \"v\", \n",
    "    [\"flow\"], # optional but may be useful for debugging or finding merge edges\n",
    "    create_using=nx.DiGraph\n",
    ")\n",
    "sol_graph.add_nodes_from(\n",
    "    tracked_detections[[\"t\", \"y\", \"x\", \"label\"]].to_dict(orient='index').items()\n",
    ")"
   ]
  },
  {
   "cell_type": "code",
   "execution_count": 11,
   "metadata": {},
   "outputs": [
    {
     "name": "stderr",
     "output_type": "stream",
     "text": [
      "Loading TIFFs: 100%|██████████| 92/92 [00:00<00:00, 349.03it/s]\n",
      "1 non-connected masks at t=28.\n",
      "1 non-connected masks at t=31.\n",
      "1 non-connected masks at t=33.\n",
      "1 non-connected masks at t=44.\n",
      "1 non-connected masks at t=54.\n",
      "Matching frames: 100%|██████████| 92/92 [00:02<00:00, 33.11it/s]\n",
      "Evaluating nodes: 100%|██████████| 25378/25378 [00:00<00:00, 570339.58it/s]\n",
      "Evaluating FP edges: 100%|██████████| 25194/25194 [00:00<00:00, 662615.66it/s]\n",
      "Evaluating FN edges: 100%|██████████| 25168/25168 [00:00<00:00, 632772.32it/s]"
     ]
    },
    {
     "name": "stdout",
     "output_type": "stream",
     "text": [
      "{'AOGM': 869.0, 'fp_nodes': 0, 'fn_nodes': 42, 'ns_nodes': 0, 'fp_edges': 152, 'fn_edges': 126, 'ws_edges': 108, 'TRA': 0.9970234833123253, 'DET': 0.998347757671125}\n"
     ]
    },
    {
     "name": "stderr",
     "output_type": "stream",
     "text": [
      "\n"
     ]
    }
   ],
   "source": [
    "# evaluate using `traccuracy` - note `traccuracy` should be installed separately!\n",
    "\n",
    "from traccuracy import TrackingGraph\n",
    "from traccuracy.loaders import load_ctc_data\n",
    "from traccuracy.matchers import CTCMatcher\n",
    "from traccuracy.metrics import CTCMetrics\n",
    "\n",
    "comp_graph = TrackingGraph(\n",
    "    sol_graph, \n",
    "    label_key=\"label\", \n",
    "    location_keys=[\"y\", \"x\"], \n",
    "    segmentation=seg_labels\n",
    ")\n",
    "\n",
    "gt_graph = load_ctc_data(GT_PATH)\n",
    "matcher = CTCMatcher()\n",
    "matched = matcher.compute_mapping(gt_graph, comp_graph)\n",
    "results = CTCMetrics().compute(matched)\n",
    "\n",
    "print(results.results)"
   ]
  }
 ],
 "metadata": {
  "kernelspec": {
   "display_name": "tracktool",
   "language": "python",
   "name": "python3"
  },
  "language_info": {
   "codemirror_mode": {
    "name": "ipython",
    "version": 3
   },
   "file_extension": ".py",
   "mimetype": "text/x-python",
   "name": "python",
   "nbconvert_exporter": "python",
   "pygments_lexer": "ipython3",
   "version": "3.10.13"
  },
  "orig_nbformat": 4
 },
 "nbformat": 4,
 "nbformat_minor": 2
}
