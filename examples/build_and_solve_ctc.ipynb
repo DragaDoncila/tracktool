{
 "cells": [
  {
   "cell_type": "code",
   "execution_count": 1,
   "metadata": {},
   "outputs": [],
   "source": [
    "import os\n",
    "from tracktool import load_graph, get_traccuracy_graph\n",
    "from traccuracy.loaders import load_ctc_data\n",
    "from traccuracy.matchers import CTCMatched\n",
    "from traccuracy.metrics import CTCMetrics"
   ]
  },
  {
   "cell_type": "code",
   "execution_count": 2,
   "metadata": {},
   "outputs": [],
   "source": [
    "DATA_ROOT = '/home/draga/PhD/data/cell_tracking_challenge/ST_Segmentations/'\n",
    "DS_NAME = 'Fluo-N2DL-HeLa/'\n",
    "SEQ = '02_ST'\n",
    "GT_PATH = os.path.join(DATA_ROOT, DS_NAME, '02_GT/TRA/')\n",
    "SEG_PATH = os.path.join(DATA_ROOT, DS_NAME, SEQ, 'SEG/')"
   ]
  },
  {
   "cell_type": "code",
   "execution_count": 3,
   "metadata": {},
   "outputs": [
    {
     "name": "stderr",
     "output_type": "stream",
     "text": [
      "Loading TIFFs: 100%|██████████| 92/92 [00:00<00:00, 138.74it/s]\n",
      "Extracting Centroids: 100%|██████████| 92/92 [00:08<00:00, 11.34it/s]\n",
      "Building kD trees: 100%|██████████| 92/92 [00:02<00:00, 34.82it/s]\n",
      "Building enter/exit edges: 100%|██████████| 25378/25378 [00:00<00:00, 147444.79it/s]\n",
      "Building frame-to-frame edges: 100%|██████████| 91/91 [00:17<00:00,  5.26it/s]\n"
     ]
    },
    {
     "name": "stdout",
     "output_type": "stream",
     "text": [
      "Set parameter Username\n",
      "Academic license - for non-commercial use only - expires 2024-06-18\n",
      "Gurobi Optimizer version 10.0.1 build v10.0.1rc0 (linux64)\n",
      "\n",
      "CPU model: Intel(R) Core(TM) i7-10510U CPU @ 1.80GHz, instruction set [SSE2|AVX|AVX2]\n",
      "Thread count: 4 physical cores, 8 logical processors, using up to 8 threads\n",
      "\n",
      "Optimize a model with 76137 rows, 325923 columns and 1252932 nonzeros\n",
      "Model fingerprint: 0xe7b9a26d\n",
      "Coefficient statistics:\n",
      "  Matrix range     [1e+00, 1e+00]\n",
      "  Objective range  [3e-03, 3e+02]\n",
      "  Bounds range     [1e+00, 2e+00]\n",
      "  RHS range        [1e+00, 1e+00]\n",
      "Presolve removed 366 rows and 2 columns\n",
      "Presolve time: 0.75s\n",
      "Presolved: 75771 rows, 325921 columns, 1248910 nonzeros\n",
      "\n",
      "Concurrent LP optimizer: dual simplex and barrier\n",
      "Showing barrier log only...\n",
      "\n",
      "Ordering time: 0.55s\n",
      "\n",
      "Barrier performed 0 iterations in 1.43 seconds (0.91 work units)\n",
      "Barrier solve interrupted - model solved by another algorithm\n",
      "\n",
      "\n",
      "Solved with dual simplex\n",
      "Iteration    Objective       Primal Inf.    Dual Inf.      Time\n",
      "   28263    8.4119240e+04   0.000000e+00   0.000000e+00      2s\n",
      "\n",
      "Solved in 28263 iterations and 1.52 seconds (1.13 work units)\n",
      "Optimal objective  8.411924029e+04\n"
     ]
    }
   ],
   "source": [
    "seg_ims, flow_graph = load_graph(SEG_PATH)\n",
    "flow_graph.solve()"
   ]
  },
  {
   "cell_type": "code",
   "execution_count": 4,
   "metadata": {},
   "outputs": [
    {
     "name": "stderr",
     "output_type": "stream",
     "text": [
      "Loading TIFFs: 100%|██████████| 92/92 [00:00<00:00, 199.91it/s]\n",
      "Matching frames: 100%|██████████| 92/92 [00:19<00:00,  4.80it/s]\n"
     ]
    },
    {
     "name": "stdout",
     "output_type": "stream",
     "text": [
      "Matched 25378 out of 25420 ground truth nodes.\n",
      "Matched 25378 out of 25378 predicted nodes.\n"
     ]
    },
    {
     "name": "stderr",
     "output_type": "stream",
     "text": [
      "Evaluating nodes: 100%|██████████| 25378/25378 [00:00<00:00, 233188.92it/s]\n"
     ]
    }
   ],
   "source": [
    "tg = get_traccuracy_graph(flow_graph, seg_ims)\n",
    "gt_graph = load_ctc_data(GT_PATH)\n",
    "match = CTCMatched(gt_graph, tg)\n",
    "raw_ctc = CTCMetrics(match)\n",
    "res = raw_ctc.results\n"
   ]
  }
 ],
 "metadata": {
  "kernelspec": {
   "display_name": "tracktool",
   "language": "python",
   "name": "python3"
  },
  "language_info": {
   "codemirror_mode": {
    "name": "ipython",
    "version": 3
   },
   "file_extension": ".py",
   "mimetype": "text/x-python",
   "name": "python",
   "nbconvert_exporter": "python",
   "pygments_lexer": "ipython3",
   "version": "3.9.16"
  },
  "orig_nbformat": 4
 },
 "nbformat": 4,
 "nbformat_minor": 2
}
