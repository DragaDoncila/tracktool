{
 "cells": [
  {
   "cell_type": "code",
   "execution_count": 1,
   "metadata": {},
   "outputs": [],
   "source": [
    "import os\n",
    "from tracktour import Tracker, get_im_centers"
   ]
  },
  {
   "cell_type": "code",
   "execution_count": 2,
   "metadata": {},
   "outputs": [],
   "source": [
    "DATA_ROOT = '/home/ddon0001/PhD/data/cell_tracking_challenge/ST/'\n",
    "DS_NAME = 'Fluo-N2DL-HeLa/'\n",
    "SEQ = '02_ST'\n",
    "GT_PATH = os.path.join(DATA_ROOT, DS_NAME, '02_GT/TRA/')\n",
    "SEG_PATH = os.path.join(DATA_ROOT, DS_NAME, SEQ, 'SEG/')"
   ]
  },
  {
   "cell_type": "code",
   "execution_count": 3,
   "metadata": {},
   "outputs": [
    {
     "name": "stderr",
     "output_type": "stream",
     "text": [
      "Loading TIFFs: 100%|██████████| 92/92 [00:00<00:00, 277.03it/s]\n",
      "Extracting Centroids: 100%|██████████| 92/92 [00:02<00:00, 31.01it/s]"
     ]
    },
    {
     "name": "stdout",
     "output_type": "stream",
     "text": [
      "Loaded 92 frames of shape (700, 1100).\n",
      "Extracted 25378 detections:\n",
      "   t           y           x  label\n",
      "0  0  105.033501   17.544389      1\n",
      "1  0  106.990672  117.902985     20\n",
      "2  0   73.033403  143.325678     24\n",
      "3  0  108.000000  171.669355     28\n",
      "4  0  141.251956  138.192488     32\n"
     ]
    },
    {
     "name": "stderr",
     "output_type": "stream",
     "text": [
      "\n"
     ]
    }
   ],
   "source": [
    "seg_labels, detections, min_t, max_t, corners = get_im_centers(SEG_PATH)\n",
    "print(f\"Loaded {seg_labels.shape[0]} frames of shape {seg_labels.shape[1:]}.\")\n",
    "print(f\"Extracted {len(detections)} detections:\")\n",
    "print(detections.head())"
   ]
  },
  {
   "cell_type": "code",
   "execution_count": 4,
   "metadata": {},
   "outputs": [
    {
     "name": "stderr",
     "output_type": "stream",
     "text": [
      "Computing candidate edges: 100%|██████████| 91/91 [00:00<00:00, 1279.92it/s]\n"
     ]
    },
    {
     "name": "stdout",
     "output_type": "stream",
     "text": [
      "Set parameter Username\n",
      "Academic license - for non-commercial use only - expires 2024-10-24\n",
      "Gurobi Optimizer version 10.0.0 build v10.0.0rc2 (linux64)\n",
      "\n",
      "CPU model: 11th Gen Intel(R) Core(TM) i7-11850H @ 2.50GHz, instruction set [SSE2|AVX|AVX2|AVX512]\n",
      "Thread count: 8 physical cores, 16 logical processors, using up to 16 threads\n",
      "\n",
      "Optimize a model with 75774 rows, 325923 columns and 1248939 nonzeros\n",
      "Model fingerprint: 0xf07cfc27\n",
      "Coefficient statistics:\n",
      "  Matrix range     [1e+00, 1e+00]\n",
      "  Objective range  [3e-03, 3e+02]\n",
      "  Bounds range     [1e+00, 2e+00]\n",
      "  RHS range        [1e+00, 1e+00]\n",
      "Presolve removed 3 rows and 2 columns\n",
      "Presolve time: 0.43s\n",
      "Presolved: 75771 rows, 325921 columns, 1248909 nonzeros\n",
      "\n",
      "Concurrent LP optimizer: primal simplex, dual simplex, and barrier\n",
      "Showing barrier log only...\n",
      "\n",
      "Ordering time: 0.38s\n",
      "\n",
      "Barrier performed 0 iterations in 0.91 seconds (0.91 work units)\n",
      "Barrier solve interrupted - model solved by another algorithm\n",
      "\n",
      "\n",
      "Solved with dual simplex\n",
      "Iteration    Objective       Primal Inf.    Dual Inf.      Time\n",
      "   28337    8.4615302e+04   0.000000e+00   0.000000e+00      1s\n",
      "\n",
      "Solved in 28337 iterations and 0.97 seconds (1.12 work units)\n",
      "Optimal objective  8.461530227e+04\n",
      "Building took 14.285187005996704 seconds\n",
      "   t           y           x  label  enter_exit_cost   div_cost\n",
      "0  0  105.033501   17.544389      1        17.544389  54.374273\n",
      "1  0  106.990672  117.902985     20       106.990672  47.543552\n",
      "2  0   73.033403  143.325678     24        73.033403  49.021949\n",
      "3  0  108.000000  171.669355     28       108.000000  50.412891\n",
      "4  0  141.251956  138.192488     32       138.192488  68.057136\n",
      "    index  u    v   distance  capacity       cost  flow\n",
      "0       0  0  124  21.894248       2.0  21.894248   1.0\n",
      "10     10  1  126   4.574182       2.0   4.574182   1.0\n",
      "20     20  2  127   6.052579       2.0   6.052579   1.0\n",
      "30     30  3  128   6.687392       2.0   6.687392   1.0\n",
      "40     40  4  129  15.395290       2.0  15.395290   1.0\n"
     ]
    }
   ],
   "source": [
    "tracker = Tracker(\n",
    "    im_shape = corners[1],\n",
    "    k_neighbours=10\n",
    ")\n",
    "tracked = tracker.solve(\n",
    "    detections,\n",
    "    frame_key=\"t\",\n",
    "    location_keys=(\"y\", \"x\"),\n",
    "    value_key=\"label\"\n",
    ")\n",
    "print(tracked.tracked_detections.head())\n",
    "print(tracked.tracked_edges.head())"
   ]
  },
  {
   "cell_type": "code",
   "execution_count": 5,
   "metadata": {},
   "outputs": [],
   "source": [
    "# convert solution to networkx graph\n",
    "sol_graph = tracked.as_nx_digraph()\n",
    "\n",
    "# convert to CTC output\n",
    "from tracktour import get_ctc_output\n",
    "seg, tdf = get_ctc_output(seg_labels, sol_graph, frame_key='t', value_key='label')\n"
   ]
  },
  {
   "cell_type": "code",
   "execution_count": 6,
   "metadata": {},
   "outputs": [
    {
     "ename": "ModuleNotFoundError",
     "evalue": "No module named 'traccuracy'",
     "output_type": "error",
     "traceback": [
      "\u001b[0;31m---------------------------------------------------------------------------\u001b[0m",
      "\u001b[0;31mModuleNotFoundError\u001b[0m                       Traceback (most recent call last)",
      "Cell \u001b[0;32mIn[6], line 3\u001b[0m\n\u001b[1;32m      1\u001b[0m \u001b[38;5;66;03m# evaluate using `traccuracy` - note `traccuracy` should be installed separately!\u001b[39;00m\n\u001b[0;32m----> 3\u001b[0m \u001b[38;5;28;01mfrom\u001b[39;00m \u001b[38;5;21;01mtraccuracy\u001b[39;00m \u001b[38;5;28;01mimport\u001b[39;00m TrackingGraph\n\u001b[1;32m      4\u001b[0m \u001b[38;5;28;01mfrom\u001b[39;00m \u001b[38;5;21;01mtraccuracy\u001b[39;00m\u001b[38;5;21;01m.\u001b[39;00m\u001b[38;5;21;01mloaders\u001b[39;00m \u001b[38;5;28;01mimport\u001b[39;00m load_ctc_data\n\u001b[1;32m      5\u001b[0m \u001b[38;5;28;01mfrom\u001b[39;00m \u001b[38;5;21;01mtraccuracy\u001b[39;00m\u001b[38;5;21;01m.\u001b[39;00m\u001b[38;5;21;01mmatchers\u001b[39;00m \u001b[38;5;28;01mimport\u001b[39;00m CTCMatcher\n",
      "\u001b[0;31mModuleNotFoundError\u001b[0m: No module named 'traccuracy'"
     ]
    }
   ],
   "source": [
    "# evaluate using `traccuracy` - note `traccuracy` should be installed separately!\n",
    "\n",
    "from traccuracy import TrackingGraph\n",
    "from traccuracy.loaders import load_ctc_data\n",
    "from traccuracy.matchers import CTCMatcher\n",
    "from traccuracy.metrics import CTCMetrics\n",
    "\n",
    "comp_graph = TrackingGraph(\n",
    "    sol_graph, \n",
    "    label_key=\"label\", \n",
    "    location_keys=[\"y\", \"x\"], \n",
    "    segmentation=seg_labels\n",
    ")\n",
    "\n",
    "gt_graph = load_ctc_data(GT_PATH)\n",
    "matcher = CTCMatcher()\n",
    "matched = matcher.compute_mapping(gt_graph, comp_graph)\n",
    "results = CTCMetrics().compute(matched)\n",
    "\n",
    "print(results.results)"
   ]
  }
 ],
 "metadata": {
  "kernelspec": {
   "display_name": "tracktool",
   "language": "python",
   "name": "python3"
  },
  "language_info": {
   "codemirror_mode": {
    "name": "ipython",
    "version": 3
   },
   "file_extension": ".py",
   "mimetype": "text/x-python",
   "name": "python",
   "nbconvert_exporter": "python",
   "pygments_lexer": "ipython3",
   "version": "3.10.13"
  },
  "orig_nbformat": 4
 },
 "nbformat": 4,
 "nbformat_minor": 2
}
