{
 "cells": [
  {
   "cell_type": "code",
   "execution_count": 1,
   "metadata": {},
   "outputs": [],
   "source": [
    "import os\n",
    "from tracktool import load_graph, get_traccuracy_graph\n",
    "from traccuracy.loaders import load_ctc_data\n",
    "from traccuracy.matchers import CTCMatched\n",
    "from traccuracy.metrics import CTCMetrics"
   ]
  },
  {
   "cell_type": "code",
   "execution_count": 2,
   "metadata": {},
   "outputs": [],
   "source": [
    "DATA_ROOT = '/home/draga/PhD/data/cell_tracking_challenge/ST_Segmentations/'\n",
    "DS_NAME = 'Fluo-N2DL-HeLa/'\n",
    "SEQ = '02_ST'\n",
    "GT_PATH = os.path.join(DATA_ROOT, DS_NAME, '02_GT/TRA/')\n",
    "SEG_PATH = os.path.join(DATA_ROOT, DS_NAME, SEQ, 'SEG/')"
   ]
  },
  {
   "cell_type": "code",
   "execution_count": 3,
   "metadata": {},
   "outputs": [
    {
     "name": "stderr",
     "output_type": "stream",
     "text": [
      "Processing frames: 100%|██████████| 92/92 [00:09<00:00,  9.77it/s]\n",
      "Building kD trees: 100%|██████████| 92/92 [00:02<00:00, 32.35it/s]\n",
      "Making appearance/exit edges: 100%|██████████| 25378/25378 [00:00<00:00, 124145.15it/s]\n",
      "Making migration & division edges: 100%|██████████| 91/91 [00:17<00:00,  5.14it/s]\n"
     ]
    },
    {
     "name": "stdout",
     "output_type": "stream",
     "text": [
      "Set parameter Username\n",
      "Academic license - for non-commercial use only - expires 2024-06-18\n",
      "Gurobi Optimizer version 10.0.1 build v10.0.1rc0 (linux64)\n",
      "\n",
      "CPU model: Intel(R) Core(TM) i7-10510U CPU @ 1.80GHz, instruction set [SSE2|AVX|AVX2]\n",
      "Thread count: 4 physical cores, 8 logical processors, using up to 8 threads\n",
      "\n",
      "Optimize a model with 76137 rows, 325923 columns and 1252932 nonzeros\n",
      "Model fingerprint: 0x09ce8205\n",
      "Coefficient statistics:\n",
      "  Matrix range     [1e+00, 1e+00]\n",
      "  Objective range  [3e-03, 3e+02]\n",
      "  Bounds range     [1e+00, 1e+00]\n",
      "  RHS range        [1e+00, 1e+00]\n",
      "Presolve removed 366 rows and 2 columns\n",
      "Presolve time: 0.78s\n",
      "Presolved: 75771 rows, 325921 columns, 1248910 nonzeros\n",
      "\n",
      "Concurrent LP optimizer: dual simplex and barrier\n",
      "Showing barrier log only...\n",
      "\n",
      "Ordering time: 1.97s\n",
      "\n",
      "Barrier statistics:\n",
      " AA' NZ     : 8.980e+05\n",
      " Factor NZ  : 8.901e+06 (roughly 230 MB of memory)\n",
      " Factor Ops : 3.850e+09 (less than 1 second per iteration)\n",
      " Threads    : 3\n",
      "\n",
      "                  Objective                Residual\n",
      "Iter       Primal          Dual         Primal    Dual     Compl     Time\n",
      "   0   2.11134743e+07 -1.20334396e+08  1.81e+04 1.89e+01  4.65e+02     4s\n",
      "   1   7.68184400e+06 -5.63136178e+07  3.35e+03 5.84e+01  1.21e+02     4s\n",
      "\n",
      "Barrier performed 1 iterations in 3.87 seconds (1.45 work units)\n",
      "Barrier solve interrupted - model solved by another algorithm\n",
      "\n",
      "\n",
      "Solved with dual simplex\n",
      "Iteration    Objective       Primal Inf.    Dual Inf.      Time\n",
      "   32225    8.6411312e+04   0.000000e+00   0.000000e+00      4s\n",
      "\n",
      "Solved in 32225 iterations and 4.02 seconds (2.31 work units)\n",
      "Optimal objective  8.641131227e+04\n"
     ]
    }
   ],
   "source": [
    "seg_ims, flow_graph = load_graph(SEG_PATH)\n",
    "flow_graph.solve()"
   ]
  },
  {
   "cell_type": "code",
   "execution_count": 4,
   "metadata": {},
   "outputs": [
    {
     "name": "stderr",
     "output_type": "stream",
     "text": [
      "Loading TIFFs: 100%|██████████| 92/92 [00:00<00:00, 184.64it/s]\n",
      "Matching frames: 100%|██████████| 92/92 [00:50<00:00,  1.83it/s]\n"
     ]
    },
    {
     "name": "stdout",
     "output_type": "stream",
     "text": [
      "Matched 25378 out of 25420 ground truth nodes.\n",
      "Matched 25378 out of 25378 predicted nodes.\n"
     ]
    },
    {
     "name": "stderr",
     "output_type": "stream",
     "text": [
      "Evaluating nodes: 100%|██████████| 92/92 [00:00<00:00, 1969.00it/s]\n",
      "Evaluating FP edges: 100%|██████████| 25196/25196 [02:32<00:00, 165.10it/s]\n",
      "Evaluating FN edges: 100%|██████████| 25168/25168 [02:14<00:00, 186.94it/s]\n"
     ]
    }
   ],
   "source": [
    "td = get_traccuracy_graph(flow_graph, seg_ims)\n",
    "gt_data = load_ctc_data(GT_PATH)\n",
    "match = CTCMatched(gt_data, td)\n",
    "raw_ctc = CTCMetrics(match)\n",
    "res = raw_ctc.results\n"
   ]
  }
 ],
 "metadata": {
  "kernelspec": {
   "display_name": "tracktool",
   "language": "python",
   "name": "python3"
  },
  "language_info": {
   "codemirror_mode": {
    "name": "ipython",
    "version": 3
   },
   "file_extension": ".py",
   "mimetype": "text/x-python",
   "name": "python",
   "nbconvert_exporter": "python",
   "pygments_lexer": "ipython3",
   "version": "3.9.16"
  },
  "orig_nbformat": 4
 },
 "nbformat": 4,
 "nbformat_minor": 2
}
