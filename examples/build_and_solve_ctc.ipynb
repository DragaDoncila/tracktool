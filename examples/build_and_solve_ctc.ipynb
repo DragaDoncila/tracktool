{
 "cells": [
  {
   "cell_type": "code",
   "execution_count": null,
   "metadata": {},
   "outputs": [],
   "source": [
    "import os\n",
    "from tracktool import load_graph, get_traccuracy_graph\n",
    "from traccuracy.loaders import load_ctc_data\n",
    "from traccuracy.matchers import CTCMatched\n",
    "from traccuracy.metrics import CTCMetrics"
   ]
  },
  {
   "cell_type": "code",
   "execution_count": null,
   "metadata": {},
   "outputs": [],
   "source": [
    "DATA_ROOT = '/home/draga/PhD/data/cell_tracking_challenge/ST_Segmentations/'\n",
    "DS_NAME = 'Fluo-N2DL-HeLa/'\n",
    "SEQ = '02_ST'\n",
    "GT_PATH = os.path.join(DATA_ROOT, DS_NAME, '02_GT/TRA/')\n",
    "SEG_PATH = os.path.join(DATA_ROOT, DS_NAME, SEQ, 'SEG/')"
   ]
  },
  {
   "cell_type": "code",
   "execution_count": null,
   "metadata": {},
   "outputs": [],
   "source": [
    "seg_ims, flow_graph = load_graph(SEG_PATH)\n",
    "flow_graph.solve()"
   ]
  },
  {
   "cell_type": "code",
   "execution_count": null,
   "metadata": {},
   "outputs": [],
   "source": [
    "tg = get_traccuracy_graph(flow_graph, seg_ims)\n",
    "gt_graph = load_ctc_data(GT_PATH)\n",
    "match = CTCMatched(gt_graph, tg)\n",
    "raw_ctc = CTCMetrics(match)\n",
    "res = raw_ctc.results\n"
   ]
  }
 ],
 "metadata": {
  "kernelspec": {
   "display_name": "tracktool",
   "language": "python",
   "name": "python3"
  },
  "language_info": {
   "codemirror_mode": {
    "name": "ipython",
    "version": 3
   },
   "file_extension": ".py",
   "mimetype": "text/x-python",
   "name": "python",
   "nbconvert_exporter": "python",
   "pygments_lexer": "ipython3",
   "version": "3.9.16"
  },
  "orig_nbformat": 4
 },
 "nbformat": 4,
 "nbformat_minor": 2
}
