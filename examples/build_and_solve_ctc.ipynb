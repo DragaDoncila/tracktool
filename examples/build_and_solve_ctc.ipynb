{
 "cells": [
  {
   "cell_type": "code",
   "execution_count": 1,
   "metadata": {},
   "outputs": [],
   "source": [
    "import os\n",
    "from tracktool import load_graph, get_traccuracy_graph\n",
    "from traccuracy.loaders import load_ctc_data\n",
    "from traccuracy.matchers import CTCMatched\n",
    "from traccuracy.metrics import CTCMetrics"
   ]
  },
  {
   "cell_type": "code",
   "execution_count": 2,
   "metadata": {},
   "outputs": [],
   "source": [
    "DATA_ROOT = '/home/draga/PhD/data/cell_tracking_challenge/ST_Segmentations/'\n",
    "DS_NAME = 'Fluo-N2DL-HeLa/'\n",
    "SEQ = '01_ST'\n",
    "GT_PATH = os.path.join(DATA_ROOT, DS_NAME, '01_GT/TRA/')\n",
    "SEG_PATH = os.path.join(DATA_ROOT, DS_NAME, SEQ, 'SEG/')"
   ]
  },
  {
   "cell_type": "code",
   "execution_count": 3,
   "metadata": {},
   "outputs": [
    {
     "name": "stderr",
     "output_type": "stream",
     "text": [
      "Building kD trees: 100%|██████████| 92/92 [00:01<00:00, 62.55it/s]\n",
      "Making appearance/exit edges: 100%|██████████| 8602/8602 [00:00<00:00, 88516.26it/s]\n",
      "Making migration & division edges: 100%|██████████| 91/91 [00:09<00:00,  9.28it/s]\n"
     ]
    },
    {
     "name": "stdout",
     "output_type": "stream",
     "text": [
      "Set parameter Username\n",
      "Academic license - for non-commercial use only - expires 2024-06-18\n",
      "Gurobi Optimizer version 10.0.1 build v10.0.1rc0 (linux64)\n",
      "\n",
      "CPU model: Intel(R) Core(TM) i7-10510U CPU @ 1.80GHz, instruction set [SSE2|AVX|AVX2]\n",
      "Thread count: 4 physical cores, 8 logical processors, using up to 8 threads\n",
      "\n",
      "Optimize a model with 25809 rows, 110332 columns and 424120 nonzeros\n",
      "Model fingerprint: 0x79ac37be\n",
      "Coefficient statistics:\n",
      "  Matrix range     [1e+00, 1e+00]\n",
      "  Objective range  [2e-02, 4e+02]\n",
      "  Bounds range     [1e+00, 2e+00]\n",
      "  RHS range        [1e+00, 1e+00]\n",
      "Presolve removed 139 rows and 2 columns\n",
      "Presolve time: 0.37s\n",
      "Presolved: 25670 rows, 110330 columns, 422619 nonzeros\n",
      "\n",
      "Concurrent LP optimizer: dual simplex and barrier\n",
      "Showing barrier log only...\n",
      "\n",
      "Ordering time: 0.06s\n",
      "\n",
      "Barrier statistics:\n",
      " AA' NZ     : 3.038e+05\n",
      " Factor NZ  : 1.263e+06 (roughly 70 MB of memory)\n",
      " Factor Ops : 1.676e+08 (less than 1 second per iteration)\n",
      " Threads    : 3\n",
      "\n",
      "Barrier performed 0 iterations in 0.66 seconds (0.27 work units)\n",
      "Barrier solve interrupted - model solved by another algorithm\n",
      "\n",
      "\n",
      "Solved with dual simplex\n",
      "Iteration    Objective       Primal Inf.    Dual Inf.      Time\n",
      "    9987    3.0905553e+04   0.000000e+00   0.000000e+00      1s\n",
      "\n",
      "Solved in 9987 iterations and 0.71 seconds (0.33 work units)\n",
      "Optimal objective  3.090555304e+04\n"
     ]
    }
   ],
   "source": [
    "seg_ims, flow_graph = load_graph(SEG_PATH)\n",
    "flow_graph.solve()"
   ]
  },
  {
   "cell_type": "code",
   "execution_count": 4,
   "metadata": {},
   "outputs": [
    {
     "name": "stderr",
     "output_type": "stream",
     "text": [
      "Loading TIFFs: 100%|██████████| 92/92 [00:00<00:00, 124.63it/s]\n",
      "Matching frames: 100%|██████████| 92/92 [00:25<00:00,  3.55it/s]\n"
     ]
    },
    {
     "name": "stdout",
     "output_type": "stream",
     "text": [
      "Matched 8602 out of 8639 ground truth nodes.\n",
      "Matched 8602 out of 8602 predicted nodes.\n"
     ]
    },
    {
     "name": "stderr",
     "output_type": "stream",
     "text": [
      "Evaluating nodes: 100%|██████████| 92/92 [00:00<00:00, 2454.79it/s]\n",
      "Evaluating FP edges: 100%|██████████| 8550/8550 [00:30<00:00, 281.57it/s]\n",
      "Evaluating FN edges: 100%|██████████| 8562/8562 [00:25<00:00, 332.71it/s]\n"
     ]
    }
   ],
   "source": [
    "td = get_traccuracy_graph(flow_graph, seg_ims)\n",
    "gt_data = load_ctc_data(GT_PATH)\n",
    "match = CTCMatched(gt_data, td)\n",
    "raw_ctc = CTCMetrics(match)\n",
    "res = raw_ctc.results\n"
   ]
  },
  {
   "cell_type": "code",
   "execution_count": 7,
   "metadata": {},
   "outputs": [
    {
     "data": {
      "text/plain": [
       "{'AOGM': 579.5,\n",
       " 'fp_nodes': 0,\n",
       " 'fn_nodes': 37,\n",
       " 'ns_nodes': 0,\n",
       " 'fp_edges': 57,\n",
       " 'fn_edges': 69,\n",
       " 'ws_edges': 49,\n",
       " 'TRA': 0.9941602088015076,\n",
       " 'DET': 0.9957170968862137}"
      ]
     },
     "execution_count": 7,
     "metadata": {},
     "output_type": "execute_result"
    }
   ],
   "source": [
    "res"
   ]
  }
 ],
 "metadata": {
  "kernelspec": {
   "display_name": "tracktool",
   "language": "python",
   "name": "python3"
  },
  "language_info": {
   "codemirror_mode": {
    "name": "ipython",
    "version": 3
   },
   "file_extension": ".py",
   "mimetype": "text/x-python",
   "name": "python",
   "nbconvert_exporter": "python",
   "pygments_lexer": "ipython3",
   "version": "3.9.16"
  },
  "orig_nbformat": 4
 },
 "nbformat": 4,
 "nbformat_minor": 2
}
